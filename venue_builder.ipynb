{
 "cells": [
  {
   "cell_type": "code",
   "execution_count": 109,
   "id": "bde9c15c",
   "metadata": {
    "scrolled": false,
    "tags": []
   },
   "outputs": [
    {
     "data": {
      "application/vnd.jupyter.widget-view+json": {
       "model_id": "11409b1633e64726904bc1a7559fe1c7",
       "version_major": 2,
       "version_minor": 0
      },
      "text/plain": [
       "IntText(value=50, description='X:')"
      ]
     },
     "metadata": {},
     "output_type": "display_data"
    },
    {
     "data": {
      "application/vnd.jupyter.widget-view+json": {
       "model_id": "8d02011d434247cdb8cd6e4b00fa5d19",
       "version_major": 2,
       "version_minor": 0
      },
      "text/plain": [
       "IntText(value=75, description='Y:')"
      ]
     },
     "metadata": {},
     "output_type": "display_data"
    },
    {
     "data": {
      "application/vnd.jupyter.widget-view+json": {
       "model_id": "b2d9d02953ae47ecaf99005639badecf",
       "version_major": 2,
       "version_minor": 0
      },
      "text/plain": [
       "Button(description='Submit X & Y dim', style=ButtonStyle())"
      ]
     },
     "metadata": {},
     "output_type": "display_data"
    },
    {
     "data": {
      "application/vnd.jupyter.widget-view+json": {
       "model_id": "fb3590706f154f8cb89c447ceb918fb7",
       "version_major": 2,
       "version_minor": 0
      },
      "text/plain": [
       "FigureWidget({\n",
       "    'data': [{'hovertext': [Point 0<br>X: 0<br>Y: 0, Point 1<br>X: 1<br>Y: 0,\n",
       "                            Point 2<br>X: 2<br>Y: 0, ..., Point 3747<br>X: 47<br>Y:\n",
       "                            74, Point 3748<br>X: 48<br>Y: 74, Point 3749<br>X:\n",
       "                            49<br>Y: 74],\n",
       "              'marker': {'color': [#B2B4B8, #B2B4B8, #B2B4B8, ..., #B2B4B8,\n",
       "                                   #B2B4B8, #B2B4B8],\n",
       "                         'size': [8, 8, 8, ..., 8, 8, 8]},\n",
       "              'mode': 'markers',\n",
       "              'type': 'scatter',\n",
       "              'uid': 'cdbf655c-7052-4e57-9ac3-2243c30d4dfd',\n",
       "              'x': array([ 0,  1,  2, ..., 47, 48, 49]),\n",
       "              'y': array([ 0,  0,  0, ..., 74, 74, 74])}],\n",
       "    'layout': {'height': 800,\n",
       "               'hovermode': 'closest',\n",
       "               'template': '...',\n",
       "               'title': {'text': 'Venue Builder - Section Constructor'},\n",
       "               'width': 800,\n",
       "               'xaxis': {'autorange': True, 'range': [-25, 74], 'title': {'text': 'Aisle'}},\n",
       "               'yaxis': {'autorange': True, 'range': [-25, 99], 'title': {'text': 'Row'}}}\n",
       "})"
      ]
     },
     "metadata": {},
     "output_type": "display_data"
    },
    {
     "data": {
      "application/vnd.jupyter.widget-view+json": {
       "model_id": "a78ce15695ac4dbeb68d0955672452fb",
       "version_major": 2,
       "version_minor": 0
      },
      "text/plain": [
       "HBox(children=(Button(description='Save File', style=ButtonStyle()), Button(description='Open File', style=But…"
      ]
     },
     "metadata": {},
     "output_type": "display_data"
    },
    {
     "data": {
      "application/vnd.jupyter.widget-view+json": {
       "model_id": "fbbd814f055c4f449d116da5b0e7942c",
       "version_major": 2,
       "version_minor": 0
      },
      "text/plain": [
       "HBox(children=(Button(description='Update Hovertext', style=ButtonStyle()), Button(description='Clear Output',…"
      ]
     },
     "metadata": {},
     "output_type": "display_data"
    },
    {
     "data": {
      "application/vnd.jupyter.widget-view+json": {
       "model_id": "a3f6aadbeb2b4ab9ad0c49567cfafc68",
       "version_major": 2,
       "version_minor": 0
      },
      "text/plain": [
       "FileUpload(value={}, accept='.txt', description='Upload')"
      ]
     },
     "metadata": {},
     "output_type": "display_data"
    },
    {
     "data": {
      "application/vnd.jupyter.widget-view+json": {
       "model_id": "506f9560068d4684a5836c46dd70e9c6",
       "version_major": 2,
       "version_minor": 0
      },
      "text/plain": [
       "Button(description='Load Gallery', style=ButtonStyle())"
      ]
     },
     "metadata": {},
     "output_type": "display_data"
    },
    {
     "name": "stdout",
     "output_type": "stream",
     "text": [
      "'gallery' dictionary loaded from meridian_arts_centre_george_weston.txt\n"
     ]
    }
   ],
   "source": [
    "### \n",
    "import plotly.graph_objects as go # Note: Requires Version 4.14.3 to run without dedacted errors\n",
    "import numpy as np # Note: Requires Version: 1.21.5\n",
    "from ipywidgets import widgets, FileUpload, VBox # Note: Requires Version: 7.5.1 to run properly\n",
    "import os\n",
    "from IPython.display import display, clear_output # Note: Requires Version 7.34.0 to run properly \n",
    "import pickle\n",
    "import json\n",
    "\n",
    "X = widgets.IntText(description='X:', value=50)\n",
    "Y = widgets.IntText(description='Y:', value=75)\n",
    "submit_dim_button = widgets.Button(description=\"Submit X & Y dim\")\n",
    "display(X, Y, submit_dim_button)\n",
    "\n",
    "# dictionary for saved clicked points\n",
    "gallery = {}\n",
    "\n",
    "\n",
    "def on_submit_dim_button(_):\n",
    "    x, y = np.meshgrid(np.arange(X.value), np.arange(Y.value))\n",
    "    f = go.FigureWidget([go.Scatter(x=x.flatten(), y=y.flatten(), mode='markers')])\n",
    "    scatter = f.data[0]\n",
    "    colors = ['#B2B4B8'] * (X.value * Y.value)\n",
    "    scatter.marker.color = colors\n",
    "    scatter.marker.size = [8] * (X.value * Y.value)\n",
    "    scatter.hovertext = [f\"Point {i}<br>X: {x.flatten()[i]}<br>Y: {y.flatten()[i]}\" for i in range(len(x.flatten()))]\n",
    "    f.layout.hovermode = 'closest'\n",
    "    \n",
    "\n",
    "\n",
    "    # create our callback function\n",
    "    def update_point(trace, points, selector):\n",
    "        c = list(scatter.marker.color)\n",
    "        s = list(scatter.marker.size)\n",
    "\n",
    "        # create our input widgets\n",
    "        section_input = widgets.Text(description='Section:', value=\"\", continuous_update=False)\n",
    "        row_input = widgets.Text(description='Row:', value=\"\", continuous_update=False)\n",
    "        seat_input = widgets.Text(description='Seat:', value=\"\", continuous_update=False)\n",
    "\n",
    "        # create a button widget to submit the input values\n",
    "        submit_button = widgets.Button(description=\"Submit\")\n",
    "\n",
    "        # create a VBox container for the input widgets and the submit button\n",
    "        inputs_container = widgets.HBox([section_input, row_input, seat_input, submit_button])\n",
    "        \n",
    "\n",
    "        for i in points.point_inds:\n",
    "            x_val = x.flatten()[i]\n",
    "            y_val = y.flatten()[i]\n",
    "\n",
    "            key_name = None\n",
    "            for seat, seat_data in gallery.items():\n",
    "                if seat_data['x'] == x_val and seat_data['y'] == y_val:\n",
    "                    key_name = seat\n",
    "                    break\n",
    "\n",
    "            if key_name is not None:\n",
    "                # Remove the seat from the gallery\n",
    "                del gallery[key_name]\n",
    "\n",
    "            else:\n",
    "                c[i] = '#010C80'\n",
    "                s[i] = 8\n",
    "\n",
    "                # display the input widgets and the submit button\n",
    "                display(inputs_container)\n",
    "\n",
    "                def on_submit(_):\n",
    "                    section = section_input.value.strip()\n",
    "                    row = row_input.value.strip()\n",
    "                    seat = seat_input.value.strip()\n",
    "                    key_name = \"\"\n",
    "                    if section:\n",
    "                        key_name += f\"Sec {section} \"\n",
    "                    if row:\n",
    "                        key_name += f\"Row {row} \"\n",
    "                    if seat:\n",
    "                        key_name += f\"Seat {seat}\"\n",
    "                    if key_name:\n",
    "                        gallery[key_name] = {\"name\": key_name, \"sec\": section, \"row\": row, \"seat number\": seat, \"x\": x_val, \"y\": y_val, \"color\": '#010C80', \"minted\": False, \"tokenID\": None, \"price\": 0, \"bought\": False}\n",
    "                        if f'Point {i}' in gallery:\n",
    "                            del gallery[f'Point {i}']\n",
    "\n",
    "                        with f.batch_update():\n",
    "                            scatter.marker.color = c\n",
    "                            scatter.marker.size = s\n",
    "\n",
    "                    # hide the input widgets and the submit button\n",
    "                    inputs_container.close()\n",
    "                    \n",
    "\n",
    "                submit_button.on_click(on_submit)\n",
    "                \n",
    "                \n",
    "                # define a function to handle the keydown event for input widgets\n",
    "                def on_keydown(change):\n",
    "                    if change.new == '':\n",
    "                        return\n",
    "                    if change['name'] == 'value' and change['type'] == 'change':\n",
    "                        if change['new'] == '\\n':\n",
    "                            on_submit(None)\n",
    "                            return\n",
    "                        if change['owner'] == section_input and row_input.value and seat_input.value:\n",
    "                            on_submit(None)\n",
    "                            return\n",
    "                        if change['owner'] == row_input and section_input.value and seat_input.value:\n",
    "                            on_submit(None)\n",
    "                            return\n",
    "                        if change['owner'] == seat_input and section_input.value and row_input.value:\n",
    "                            on_submit(None)\n",
    "                            return\n",
    "\n",
    "                # add event listener for the \"keydown\" event to each input widget\n",
    "                section_input.observe(on_keydown)\n",
    "                row_input.observe(on_keydown)\n",
    "                seat_input.observe(on_keydown)\n",
    "\n",
    "    scatter.on_click(update_point)\n",
    "\n",
    "    ##########\n",
    "\n",
    "    # function & associated button/button functions that executes an update of all scatter.marker points\n",
    "    def update_hovertext():\n",
    "        new_hovertext = []\n",
    "        new_colors = []\n",
    "        for i in range(len(x.flatten())):\n",
    "            x_val = x.flatten()[i]\n",
    "            y_val = y.flatten()[i]\n",
    "            found_in_gallery = False\n",
    "            for key_name, point_info in gallery.items():\n",
    "                if point_info['x'] == x_val and point_info['y'] == y_val:\n",
    "                    new_hovertext.append(f\"name: {point_info['name']}<br>sec: {point_info['sec']}<br>row: {point_info['row']}<br>seat number: {point_info['seat number']}<br>X: {x_val}<br>Y: {y_val}\")\n",
    "                    new_colors.append(point_info['color'])\n",
    "                    found_in_gallery = True\n",
    "                    break\n",
    "            if not found_in_gallery:\n",
    "                new_hovertext.append(f\"Point {i}<br>X: {x_val}<br>Y: {y_val}\")\n",
    "                new_colors.append('#B2B4B8')\n",
    "\n",
    "\n",
    "        scatter.hovertext = tuple(new_hovertext)\n",
    "        scatter.marker.color = tuple(new_colors)\n",
    "\n",
    "    update_hovertext_button = widgets.Button(description=\"Update Hovertext\")\n",
    "\n",
    "    def on_button_click(update_hovertext_button):\n",
    "        update_hovertext()\n",
    "\n",
    "    update_hovertext_button.on_click(on_button_click)\n",
    "\n",
    "    ##########\n",
    "\n",
    "\n",
    "    xmax = np.max(x) + 25\n",
    "    xmin = np.min(x) - 25\n",
    "    ymax = np.max(y) + 25\n",
    "    ymin = np.min(y) - 25\n",
    "\n",
    "\n",
    "\n",
    "    f.update_layout(xaxis_range=[xmin, xmax], yaxis_range=[ymin, ymax], xaxis_autorange=True, yaxis_autorange=True)\n",
    "    f.update_layout(\n",
    "        title='Venue Builder - Section Constructor',\n",
    "        xaxis_title='Aisle',\n",
    "        yaxis_title='Row'\n",
    "    )\n",
    "    \n",
    "    ### test\n",
    "    f.update_layout(\n",
    "    width=800,\n",
    "    height=800\n",
    "    )\n",
    "    ### test\n",
    "\n",
    "    f\n",
    "\n",
    "\n",
    "\n",
    "    def view_gallery(): \n",
    "        return gallery\n",
    "\n",
    "    view_gallery_output = widgets.Output()\n",
    "\n",
    "    def on_view_gallery_button_click(view_gallery_button):\n",
    "        with view_gallery_output:\n",
    "            display(view_gallery())\n",
    "            clear_output(wait=True)\n",
    "\n",
    "    view_gallery_button = widgets.Button(description=\"View Gallery\")\n",
    "    view_gallery_button.on_click(on_view_gallery_button_click)\n",
    "\n",
    "\n",
    "    display(f)\n",
    "    #display(update_gallery_button)\n",
    "    # display(widgets.HBox([update_hovertext_button, clear_button]))\n",
    "    #display(view_gallery_button)\n",
    "    #display(view_gallery_output)\n",
    "    \n",
    "    # create uploader instance for the save/load callback functions with FileUpload()\n",
    "    uploader = FileUpload(accept=\".txt\")\n",
    "    \n",
    "    \n",
    "    # save gallery as a text file with button callback function    \n",
    "    def save_as_text(_):\n",
    "        global gallery \n",
    "        display(uploader)\n",
    "\n",
    "        # def save_as_text_button_click(sender):\n",
    "        #     filename = next(iter(uploader.value))\n",
    "        #     basename, extension = os.path.splitext(filename)\n",
    "        #     basename = basename.replace('_text', '')\n",
    "        #     txt_filename = os.path.join('txt', f'{basename}_text.txt')\n",
    "        #     try:\n",
    "        #         with open(txt_filename, 'w', encoding='utf-8') as txt_file:\n",
    "        #             for key, value in gallery.items():\n",
    "        #                 txt_file.write(f\"{key}: {value}\\n\")\n",
    "        #         print(f\"'gallery' dictionary saved as text to {txt_filename}\")\n",
    "        #     except Exception as e:\n",
    "        #         print(f\"Error saving gallery as text: {e}\")\n",
    "        \n",
    "        def save_as_text_button_click(sender):\n",
    "            filename = next(iter(uploader.value))\n",
    "            basename, extension = os.path.splitext(filename)\n",
    "            basename = basename.replace('_text', '')\n",
    "            txt_filename = os.path.join('txt', f'{basename}_text.txt')\n",
    "            try:\n",
    "                with open(txt_filename, 'w', encoding='utf-8') as txt_file:\n",
    "                    txt_file.write(f\"gallery = {{\\n\")\n",
    "                    for key, value in gallery.items():\n",
    "                        txt_file.write(f\"    '{key}': {value},\\n\")\n",
    "                    txt_file.write(f\"}}\\n\")\n",
    "                print(f\"'gallery' dictionary saved as text to {txt_filename}\")\n",
    "            except Exception as e:\n",
    "                print(f\"Error saving gallery as text: {e}\")\n",
    "\n",
    "        # save button generation\n",
    "        save_as_text_button = widgets.Button(description=\"Save as Text\")\n",
    "        try: \n",
    "            save_as_text_button.on_click(save_as_text_button_click)\n",
    "        except Exception as e: \n",
    "            print(f\"No file selected from upload widget: {e}\") \n",
    "\n",
    "        display(save_as_text_button)\n",
    "        \n",
    "    \n",
    "    # save gallery button callback function\n",
    "    def save_gallery(_):\n",
    "        global gallery\n",
    "        display(uploader)\n",
    "        def save_gallery_button_click(sender):\n",
    "            #nonlocal gallery\n",
    "            filename = next(iter(uploader.value))\n",
    "            try:\n",
    "                # save as a pickled binary file\n",
    "                with open(f'txt/bin/{filename}', 'wb') as bin_file: \n",
    "                    pickle.dump(gallery, bin_file)\n",
    "                print(f\"'gallery' dictionary saved to txt/bin/{filename}\")\n",
    "                \n",
    "            # print exception if file does not save as bin and/or txt file    \n",
    "            except Exception as e: \n",
    "                print(f\"Error saving gallery: {e}\")\n",
    "                \n",
    "        # save button generation\n",
    "        save_gallery_button = widgets.Button(description=\"Save Gallery\")\n",
    "        try: \n",
    "            save_gallery_button.on_click(save_gallery_button_click)\n",
    "        except Exception as e: \n",
    "            print(f\"No file selected from Upload () widget: {e}\")\n",
    "        display(save_gallery_button)\n",
    "    \n",
    "    # load gallery button callback function \n",
    "    def load_gallery(_): \n",
    "        global gallery\n",
    "        display(uploader)\n",
    "        def load_gallery_button_click(sender): \n",
    "            global gallery\n",
    "            #nonlocal gallery\n",
    "            filename = next(iter(uploader.value))\n",
    "            try:\n",
    "                with open(f'txt/bin/{filename}', 'rb') as file: \n",
    "                    gallery = pickle.load(file, encoding='latin-1')\n",
    "                print(f\"'gallery' dictionary loaded from {filename}\")\n",
    "            except Exception as e:\n",
    "                print(f\"Error loading gallery: {e}\")\n",
    "                \n",
    "        #load button generation\n",
    "        load_gallery_button = widgets.Button(description=\"Load Gallery\")\n",
    "        try: \n",
    "            load_gallery_button.on_click(load_gallery_button_click)\n",
    "        except Exception as e: \n",
    "                print(f\"No file selected from Upload () widget: {e}\")\n",
    "        display(load_gallery_button)\n",
    "                            \n",
    "                                  \n",
    "    # create on_click action (widget on_click executes/runs above functions)\n",
    "    save_gallery_button = widgets.Button(description=\"Save File\")\n",
    "    load_gallery_button = widgets.Button(description=\"Open File\")\n",
    "    save_as_text_button = widgets.Button(description=\"Save as Text\")\n",
    "    \n",
    "    save_gallery_button.on_click(save_gallery)\n",
    "    load_gallery_button.on_click(load_gallery)\n",
    "    save_as_text_button.on_click(save_as_text)\n",
    "    \n",
    "    # create horizontal box to hold the buttons & layout format\n",
    "    buttons_horizontal_box = widgets.HBox([save_gallery_button, load_gallery_button, save_as_text_button])\n",
    "    # buttons_horizontal_box.layout.justify_content = 'space-between'\n",
    "    # buttons_horizontal_box.layout.align_items = 'center'\n",
    "    \n",
    "    # display horizontal button box\n",
    "    display(buttons_horizontal_box) \n",
    "    \n",
    "    #display(save_gallery_button, load_gallery_button, save_as_json_button)\n",
    "    \n",
    "    \n",
    "    # button that clears all output\n",
    "    \n",
    "    clear_button = widgets.Button(description=\"Clear Output\")\n",
    "    \n",
    "    def clear_button_on_click(clear_button): \n",
    "        clear_output(wait=True)\n",
    "    \n",
    "    clear_button.on_click(clear_button_on_click)\n",
    "    \n",
    "    display(widgets.HBox([update_hovertext_button, clear_button]))\n",
    "    \n",
    "submit_dim_button.on_click(on_submit_dim_button)"
   ]
  },
  {
   "cell_type": "code",
   "execution_count": null,
   "id": "50833e98",
   "metadata": {},
   "outputs": [],
   "source": []
  },
  {
   "cell_type": "code",
   "execution_count": null,
   "id": "10c8badf-b662-4438-b890-4192dd289466",
   "metadata": {
    "jupyter": {
     "source_hidden": true
    },
    "tags": []
   },
   "outputs": [],
   "source": []
  },
  {
   "cell_type": "code",
   "execution_count": null,
   "id": "903e77ba-af9c-4d60-bd22-8695eb2ba68c",
   "metadata": {
    "jupyter": {
     "source_hidden": true
    }
   },
   "outputs": [],
   "source": []
  }
 ],
 "metadata": {
  "kernelspec": {
   "display_name": "dev",
   "language": "python",
   "name": "dev"
  },
  "language_info": {
   "codemirror_mode": {
    "name": "ipython",
    "version": 3
   },
   "file_extension": ".py",
   "mimetype": "text/x-python",
   "name": "python",
   "nbconvert_exporter": "python",
   "pygments_lexer": "ipython3",
   "version": "3.7.13"
  },
  "varInspector": {
   "cols": {
    "lenName": 16,
    "lenType": 16,
    "lenVar": 40
   },
   "kernels_config": {
    "python": {
     "delete_cmd_postfix": "",
     "delete_cmd_prefix": "del ",
     "library": "var_list.py",
     "varRefreshCmd": "print(var_dic_list())"
    },
    "r": {
     "delete_cmd_postfix": ") ",
     "delete_cmd_prefix": "rm(",
     "library": "var_list.r",
     "varRefreshCmd": "cat(var_dic_list()) "
    }
   },
   "types_to_exclude": [
    "module",
    "function",
    "builtin_function_or_method",
    "instance",
    "_Feature"
   ],
   "window_display": false
  }
 },
 "nbformat": 4,
 "nbformat_minor": 5
}
