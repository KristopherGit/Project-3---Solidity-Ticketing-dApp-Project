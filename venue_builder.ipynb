{
 "cells": [
  {
   "cell_type": "code",
   "execution_count": 96,
   "id": "c00443a7-d272-4e03-8ad4-41af86f54867",
   "metadata": {},
   "outputs": [
    {
     "data": {
      "application/vnd.jupyter.widget-view+json": {
       "model_id": "0fbebcde5892416e87758ae69d7f02f5",
       "version_major": 2,
       "version_minor": 0
      },
      "text/plain": [
       "FigureWidget({\n",
       "    'data': [{'hovertext': [Point 0<br>X: 0<br>Y: 0, Point 1<br>X: 1<br>Y: 0,\n",
       "                 …"
      ]
     },
     "metadata": {},
     "output_type": "display_data"
    },
    {
     "data": {
      "application/vnd.jupyter.widget-view+json": {
       "model_id": "2f757eeb9b2e4a059b68ff55d68558ea",
       "version_major": 2,
       "version_minor": 0
      },
      "text/plain": [
       "Button(description='Update Gallery', style=ButtonStyle())"
      ]
     },
     "metadata": {},
     "output_type": "display_data"
    },
    {
     "data": {
      "application/vnd.jupyter.widget-view+json": {
       "model_id": "ba55abac91214535a124112069c7eec5",
       "version_major": 2,
       "version_minor": 0
      },
      "text/plain": [
       "Button(description='Update Hovertext', style=ButtonStyle())"
      ]
     },
     "metadata": {},
     "output_type": "display_data"
    },
    {
     "name": "stdout",
     "output_type": "stream",
     "text": [
      "i: 490\n"
     ]
    },
    {
     "data": {
      "application/vnd.jupyter.widget-view+json": {
       "model_id": "",
       "version_major": 2,
       "version_minor": 0
      },
      "text/plain": [
       "Text(value='', description='Section:')"
      ]
     },
     "metadata": {},
     "output_type": "display_data"
    },
    {
     "data": {
      "application/vnd.jupyter.widget-view+json": {
       "model_id": "",
       "version_major": 2,
       "version_minor": 0
      },
      "text/plain": [
       "Text(value='', description='Row:')"
      ]
     },
     "metadata": {},
     "output_type": "display_data"
    },
    {
     "data": {
      "application/vnd.jupyter.widget-view+json": {
       "model_id": "",
       "version_major": 2,
       "version_minor": 0
      },
      "text/plain": [
       "Text(value='', description='Seat:')"
      ]
     },
     "metadata": {},
     "output_type": "display_data"
    },
    {
     "name": "stdout",
     "output_type": "stream",
     "text": [
      "{'Sec 100 Row G Seat 15': {'Seat': 'Sec 100 Row G Seat 15', 'x': 10, 'y': 8, 'color': '#1E90FF'}}\n",
      "i: 491\n"
     ]
    },
    {
     "data": {
      "application/vnd.jupyter.widget-view+json": {
       "model_id": "",
       "version_major": 2,
       "version_minor": 0
      },
      "text/plain": [
       "Text(value='', description='Section:')"
      ]
     },
     "metadata": {},
     "output_type": "display_data"
    },
    {
     "data": {
      "application/vnd.jupyter.widget-view+json": {
       "model_id": "",
       "version_major": 2,
       "version_minor": 0
      },
      "text/plain": [
       "Text(value='', description='Row:')"
      ]
     },
     "metadata": {},
     "output_type": "display_data"
    },
    {
     "data": {
      "application/vnd.jupyter.widget-view+json": {
       "model_id": "",
       "version_major": 2,
       "version_minor": 0
      },
      "text/plain": [
       "Text(value='', description='Seat:')"
      ]
     },
     "metadata": {},
     "output_type": "display_data"
    },
    {
     "name": "stdout",
     "output_type": "stream",
     "text": [
      "{'Sec 100 Row G Seat 15': {'Seat': 'Sec 100 Row G Seat 15', 'x': 10, 'y': 8, 'color': '#1E90FF'}, 'Sec 100 Row G Seat 16': {'Seat': 'Sec 100 Row G Seat 16', 'x': 11, 'y': 8, 'color': '#1E90FF'}}\n",
      "i: 492\n"
     ]
    },
    {
     "data": {
      "application/vnd.jupyter.widget-view+json": {
       "model_id": "",
       "version_major": 2,
       "version_minor": 0
      },
      "text/plain": [
       "Text(value='', description='Section:')"
      ]
     },
     "metadata": {},
     "output_type": "display_data"
    },
    {
     "data": {
      "application/vnd.jupyter.widget-view+json": {
       "model_id": "",
       "version_major": 2,
       "version_minor": 0
      },
      "text/plain": [
       "Text(value='', description='Row:')"
      ]
     },
     "metadata": {},
     "output_type": "display_data"
    },
    {
     "data": {
      "application/vnd.jupyter.widget-view+json": {
       "model_id": "",
       "version_major": 2,
       "version_minor": 0
      },
      "text/plain": [
       "Text(value='', description='Seat:')"
      ]
     },
     "metadata": {},
     "output_type": "display_data"
    },
    {
     "name": "stdout",
     "output_type": "stream",
     "text": [
      "{'Sec 100 Row G Seat 15': {'Seat': 'Sec 100 Row G Seat 15', 'x': 10, 'y': 8, 'color': '#1E90FF'}, 'Sec 100 Row G Seat 16': {'Seat': 'Sec 100 Row G Seat 16', 'x': 11, 'y': 8, 'color': '#1E90FF'}, 'Sec 100 Row G Seat 17': {'Seat': 'Sec 100 Row G Seat 17', 'x': 12, 'y': 8, 'color': '#1E90FF'}}\n",
      "i: 493\n"
     ]
    },
    {
     "data": {
      "application/vnd.jupyter.widget-view+json": {
       "model_id": "",
       "version_major": 2,
       "version_minor": 0
      },
      "text/plain": [
       "Text(value='', description='Section:')"
      ]
     },
     "metadata": {},
     "output_type": "display_data"
    },
    {
     "data": {
      "application/vnd.jupyter.widget-view+json": {
       "model_id": "",
       "version_major": 2,
       "version_minor": 0
      },
      "text/plain": [
       "Text(value='', description='Row:')"
      ]
     },
     "metadata": {},
     "output_type": "display_data"
    },
    {
     "data": {
      "application/vnd.jupyter.widget-view+json": {
       "model_id": "",
       "version_major": 2,
       "version_minor": 0
      },
      "text/plain": [
       "Text(value='', description='Seat:')"
      ]
     },
     "metadata": {},
     "output_type": "display_data"
    },
    {
     "name": "stdout",
     "output_type": "stream",
     "text": [
      "{'Sec 100 Row G Seat 15': {'Seat': 'Sec 100 Row G Seat 15', 'x': 10, 'y': 8, 'color': '#1E90FF'}, 'Sec 100 Row G Seat 16': {'Seat': 'Sec 100 Row G Seat 16', 'x': 11, 'y': 8, 'color': '#1E90FF'}, 'Sec 100 Row G Seat 17': {'Seat': 'Sec 100 Row G Seat 17', 'x': 12, 'y': 8, 'color': '#1E90FF'}, 'Sec 100 Row G Seat 18': {'Seat': 'Sec 100 Row G Seat 18', 'x': 13, 'y': 8, 'color': '#1E90FF'}}\n"
     ]
    }
   ],
   "source": [
    "import plotly.graph_objects as go\n",
    "import numpy as np\n",
    "import ipywidgets as widgets\n",
    "from IPython.display import display\n",
    "\n",
    "x, y = np.meshgrid(np.arange(60), np.arange(30))\n",
    "\n",
    "f = go.FigureWidget([go.Scatter(x=x.flatten(), y=y.flatten(), mode='markers')])\n",
    "\n",
    "scatter = f.data[0]\n",
    "colors = ['#B2B4B8'] * 1800\n",
    "scatter.marker.color = colors\n",
    "scatter.marker.size = [7] * 1800\n",
    "scatter.hovertext = [f\"Point {i}<br>X: {x.flatten()[i]}<br>Y: {y.flatten()[i]}\" for i in range(len(x.flatten()))]\n",
    "f.layout.hovermode = 'closest'\n",
    "\n",
    "# dictionary for saved clicked points\n",
    "gallery = {}\n",
    "\n",
    "# list for plotly hover_text point updates\n",
    "hover_texts = []\n",
    "\n",
    "# create our callback function\n",
    "def update_point(trace, points, selector):\n",
    "    c = list(scatter.marker.color)\n",
    "    s = list(scatter.marker.size)\n",
    "    \n",
    "    for i in points.point_inds:\n",
    "        \n",
    "            c[i] = '#010C80'\n",
    "            s[i] = 8\n",
    "\n",
    "            print(f\"i: {i}\")\n",
    "           \n",
    "            # get the x & y co-ordinates for the point from the meshgrid scatter plot\n",
    "            x_val = x.flatten()[i]\n",
    "            y_val = y.flatten()[i]\n",
    "\n",
    "           # prompt user to enter key name for point\n",
    "           #key_input = widgets.Text(description='Enter key name:', value=f'Point {i}')\n",
    "            section_input = widgets.Text(description='Section:', value=\"\")\n",
    "            row_input = widgets.Text(description='Row:', value=\"\")\n",
    "            seat_input = widgets.Text(description='Seat:', value=\"\")\n",
    "            \n",
    "            display(section_input, row_input, seat_input)\n",
    "\n",
    "            def on_submit(_):\n",
    "                section = section_input.value.strip()\n",
    "                row = row_input.value.strip()\n",
    "                seat = seat_input.value.strip()\n",
    "                key_name = \"\"\n",
    "                if section: \n",
    "                    key_name += f'Sec {section} ' \n",
    "                if row: \n",
    "                    key_name += f'Row {row} ' \n",
    "                if seat: \n",
    "                    key_name += f'Seat {seat}' \n",
    "                if key_name: \n",
    "                    gallery[key_name] = {'Seat': key_name, 'x': x_val, 'y': y_val, 'color': '#1E90FF'}\n",
    "                    if f'Point {i}' in gallery:\n",
    "                        del gallery [f'Point {i}']\n",
    "                        \n",
    "                    #hover_texts.append(key_name + f' ({x_val}, {y_val})')\n",
    "                        \n",
    "                    with f.batch_update():\n",
    "                        scatter.marker.color = c\n",
    "                        scatter.marker.size = s\n",
    "                        #scatter.hovertemplate = hover_texts\n",
    "                        \n",
    "                    print(gallery)\n",
    "                    \n",
    "                \n",
    "                section_input.close()\n",
    "                row_input.close()\n",
    "                seat_input.close()\n",
    "                \n",
    "            section_input.on_submit(on_submit)\n",
    "            row_input.on_submit(on_submit)\n",
    "            seat_input.on_submit(on_submit)\n",
    "                \n",
    "       \n",
    "            def on_change(change):\n",
    "                if change['type'] == 'keydown' and change['new'] == 'Enter':\n",
    "                    on_submit(None)\n",
    "\n",
    "            section_input.observe(on_change, names='value')\n",
    "            row_input.observe(on_change, names='value')\n",
    "            seat_input.observe(on_change, names='value')\n",
    "            \n",
    "            \n",
    "            # try:\n",
    "            #     new_hovertext = list(scatter.hovertext)\n",
    "            #     for key_name, point_info in gallery.items():\n",
    "            #         x_val = point_info['x']\n",
    "            #         y_val = point_info['y']\n",
    "            #         idx = np.ravel_multi_index((y_val, x_val), (30, 60))\n",
    "            #         new_hovertext[idx] = f\"{key_name}<br>X: {x_val}<br>Y: {y_val}\"\n",
    "            #     scatter.hovertext = tuple(new_hovertext)\n",
    "            # except Exception as e:\n",
    "            #     print(e)\n",
    "            \n",
    "            # try:\n",
    "            #     new_hovertext = list(scatter.hovertext)\n",
    "            #     for key_name, point_info in gallery.items():\n",
    "            #         x_val = point_info['x']\n",
    "            #         y_val = point_info['y']\n",
    "            #         idx = np.where((scatter.x == x_val) & (scatter.y == y_val))[0][0]\n",
    "            #         new_hovertext[idx] = f\"{key_name}<br>X: {x_val}<br>Y: {y_val}\"\n",
    "            #     scatter.hovertext = tuple(new_hovertext)\n",
    "            # except Exception as e:\n",
    "            #     print(e)\n",
    "                \n",
    "            # key_input.observe(on_change, names='value')\n",
    "     \n",
    "            \n",
    "            # with f.batch_update():\n",
    "            #     scatter.marker.color = c\n",
    "            #     scatter.marker.size = s\n",
    "            # print(point_info)\n",
    "\n",
    "\n",
    "scatter.on_click(update_point)\n",
    "\n",
    "def update_hovertext():\n",
    "    new_hovertext = []\n",
    "    for i in range(len(x.flatten())):\n",
    "        x_val = x.flatten()[i]\n",
    "        y_val = y.flatten()[i]\n",
    "        found_in_gallery = False\n",
    "        for key_name, point_info in gallery.items():\n",
    "            if point_info['x'] == x_val and point_info['y'] == y_val:\n",
    "                new_hovertext.append(f\"{key_name}<br>Seat: {point_info['Seat']}<br>X: {x_val}<br>Y: {y_val}\")\n",
    "                found_in_gallery = True\n",
    "                break\n",
    "        if not found_in_gallery:\n",
    "            new_hovertext.append(f\"Point {i}<br>X: {x_val}<br>Y: {y_val}\")\n",
    "    scatter.hovertext = tuple(new_hovertext)\n",
    "    \n",
    "update_hovertext_button = widgets.Button(description=\"Update Hovertext\")\n",
    "def on_button_click(update_hovertext_button):\n",
    "    update_hovertext()\n",
    "update_hovertext_button.on_click(on_button_click)\n",
    "#display(button)\n",
    "\n",
    "\n",
    "xmax = np.max(x) + 10\n",
    "xmin = np.min(x) - 10\n",
    "ymax = np.max(y) + 10\n",
    "ymin = np.min(y) - 10\n",
    "\n",
    "\n",
    "        \n",
    "f.update_layout(xaxis_range=[xmin, xmax], yaxis_range=[ymin, ymax], xaxis_autorange=True, yaxis_autorange=True)\n",
    "f.update_layout(\n",
    "    title='Venue Builder - Section Constructor',\n",
    "    xaxis_title='Aisle',\n",
    "    yaxis_title='Row'\n",
    ")\n",
    "\n",
    "f\n",
    "\n",
    "def update_gallery(button):\n",
    "    for key, value in gallery.items():\n",
    "        seat_input = widgets.Text(description='Section, Row & Seat:', value=str(value['Seat']))\n",
    "        \n",
    "        def on_submit(_):\n",
    "            value['Seat'] = seat_input.value.strip()\n",
    "            print(gallery)\n",
    "    \n",
    "        seat_input.on_submit(on_submit)\n",
    "        \n",
    "        display(widgets.VBox([widgets.Label(key), seat_input]))\n",
    "\n",
    "update_gallery_button = widgets.Button(description='Update Gallery')\n",
    "button.on_click(update_gallery)\n",
    "\n",
    "display(f)\n",
    "display(update_gallery_button)\n",
    "display(update_hovertext_button)"
   ]
  },
  {
   "cell_type": "code",
   "execution_count": null,
   "id": "10c8badf-b662-4438-b890-4192dd289466",
   "metadata": {},
   "outputs": [],
   "source": []
  }
 ],
 "metadata": {
  "kernelspec": {
   "display_name": "dev",
   "language": "python",
   "name": "dev"
  },
  "language_info": {
   "codemirror_mode": {
    "name": "ipython",
    "version": 3
   },
   "file_extension": ".py",
   "mimetype": "text/x-python",
   "name": "python",
   "nbconvert_exporter": "python",
   "pygments_lexer": "ipython3",
   "version": "3.7.13"
  },
  "varInspector": {
   "cols": {
    "lenName": 16,
    "lenType": 16,
    "lenVar": 40
   },
   "kernels_config": {
    "python": {
     "delete_cmd_postfix": "",
     "delete_cmd_prefix": "del ",
     "library": "var_list.py",
     "varRefreshCmd": "print(var_dic_list())"
    },
    "r": {
     "delete_cmd_postfix": ") ",
     "delete_cmd_prefix": "rm(",
     "library": "var_list.r",
     "varRefreshCmd": "cat(var_dic_list()) "
    }
   },
   "types_to_exclude": [
    "module",
    "function",
    "builtin_function_or_method",
    "instance",
    "_Feature"
   ],
   "window_display": false
  }
 },
 "nbformat": 4,
 "nbformat_minor": 5
}
