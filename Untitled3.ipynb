{
 "cells": [
  {
   "cell_type": "code",
   "execution_count": 1,
   "id": "405be115",
   "metadata": {},
   "outputs": [],
   "source": [
    "import numpy as np\n",
    "import plotly.graph_objects as go\n",
    "\n",
    "def on_submit_dim_button(_):\n",
    "    num_rows = X.value\n",
    "    num_columns = Y.value\n",
    "    radius = 10  # Adjust the radius as desired\n",
    "    degree_of_curvature = 45  # Adjust the degree of curvature as desired\n",
    "    space_between = 1  # Adjust the space between rows/columns as desired\n",
    "\n",
    "    # Calculate the angles for the rows/columns\n",
    "    angles = np.linspace(0, degree_of_curvature, num_rows)\n",
    "\n",
    "    # Calculate the radii for the rows/columns\n",
    "    radii = np.arange(num_columns) * space_between\n",
    "\n",
    "    # Create the coordinates for the scatter plot\n",
    "    x_values = []\n",
    "    y_values = []\n",
    "\n",
    "    for r in radii:\n",
    "        for theta in angles:\n",
    "            x = r * np.cos(np.deg2rad(theta))\n",
    "            y = r * np.sin(np.deg2rad(theta))\n",
    "            x_values.append(x)\n",
    "            y_values.append(y)\n",
    "\n",
    "    f = go.FigureWidget([go.Scatter(x=x_values, y=y_values, mode='markers')])\n",
    "    scatter = f.data[0]\n",
    "\n",
    "    colors = ['rgba(0, 0, 0, 0)'] * (num_rows * num_columns)\n",
    "    scatter.marker.color = colors\n",
    "    \n",
    "    line_colors = ['black'] * (num_rows * num_columns)\n",
    "    scatter.marker.line.color = line_colors\n",
    "    scatter.marker.line.width = [0.15] * (num_rows * num_columns)\n",
    "    scatter.marker.opacity = [0.7] * (num_rows * num_columns)\n",
    "    scatter.marker.size = [9] * (num_rows * num_columns)\n",
    "    scatter.hovertext = [f\"Point {i}<br>X: {x_values[i]}<br>Y: {y_values[i]}\" for i in range(len(x_values))]\n",
    "    f.layout.hovermode = 'closest'"
   ]
  },
  {
   "cell_type": "code",
   "execution_count": null,
   "id": "dc95f256",
   "metadata": {},
   "outputs": [],
   "source": []
  }
 ],
 "metadata": {
  "kernelspec": {
   "display_name": "dev",
   "language": "python",
   "name": "dev"
  },
  "language_info": {
   "codemirror_mode": {
    "name": "ipython",
    "version": 3
   },
   "file_extension": ".py",
   "mimetype": "text/x-python",
   "name": "python",
   "nbconvert_exporter": "python",
   "pygments_lexer": "ipython3",
   "version": "3.7.13"
  },
  "varInspector": {
   "cols": {
    "lenName": 16,
    "lenType": 16,
    "lenVar": 40
   },
   "kernels_config": {
    "python": {
     "delete_cmd_postfix": "",
     "delete_cmd_prefix": "del ",
     "library": "var_list.py",
     "varRefreshCmd": "print(var_dic_list())"
    },
    "r": {
     "delete_cmd_postfix": ") ",
     "delete_cmd_prefix": "rm(",
     "library": "var_list.r",
     "varRefreshCmd": "cat(var_dic_list()) "
    }
   },
   "types_to_exclude": [
    "module",
    "function",
    "builtin_function_or_method",
    "instance",
    "_Feature"
   ],
   "window_display": false
  }
 },
 "nbformat": 4,
 "nbformat_minor": 5
}
